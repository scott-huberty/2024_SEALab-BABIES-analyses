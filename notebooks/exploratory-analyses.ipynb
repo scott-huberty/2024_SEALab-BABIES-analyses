{
 "cells": [
  {
   "cell_type": "code",
   "execution_count": null,
   "metadata": {},
   "outputs": [],
   "source": [
    "%cd ..\n",
    "%pwd"
   ]
  },
  {
   "cell_type": "code",
   "execution_count": null,
   "metadata": {},
   "outputs": [],
   "source": [
    "from pathlib import Path\n",
    "\n",
    "\n",
    "import matplotlib.pyplot as plt\n",
    "import pandas as pd\n",
    "\n",
    "import seaborn as sns\n",
    "\n",
    "from scipy import stats\n",
    "\n",
    "# This projects imports\n",
    "import utils\n",
    "\n",
    "sns.set_style(\"darkgrid\")"
   ]
  },
  {
   "cell_type": "code",
   "execution_count": null,
   "metadata": {},
   "outputs": [],
   "source": [
    "PROJECT_ROOT = utils.paths.P_ROOT\n",
    "PROJECT_ROOT"
   ]
  },
  {
   "cell_type": "markdown",
   "metadata": {},
   "source": [
    "## Data Sanity Checks & Description Statistics\n",
    "\n",
    "In this notebook we will\n",
    "\n",
    "- Check for outliers\n",
    "- Assess whether the data meets our prior assumptions about how the brain should look"
   ]
  },
  {
   "cell_type": "code",
   "execution_count": null,
   "metadata": {},
   "outputs": [],
   "source": [
    "df_ages = utils.io.get_gestational_age_df()\n",
    "df_ages"
   ]
  },
  {
   "cell_type": "code",
   "execution_count": null,
   "metadata": {},
   "outputs": [],
   "source": [
    "aseg_fname_newborn = PROJECT_ROOT / \"csv\" / \"aseg_newborn_brainvol.table.txt\"\n",
    "aseg_fname_sixmonth = PROJECT_ROOT / \"csv\" / \"aseg_sixmonth_brainvol.table.txt\"\n",
    "\n",
    "\n",
    "df_newborn_zed = utils.io.get_brainvol_df(aseg_fname_newborn, zscore=True)\n",
    "\n",
    "\n",
    "df_sixmonth_zed = utils.io.get_brainvol_df(aseg_fname_sixmonth, zscore=True)\n",
    "df_sixmonth_zed"
   ]
  },
  {
   "cell_type": "code",
   "execution_count": null,
   "metadata": {},
   "outputs": [],
   "source": [
    "fig, axes = plt.subplots(figsize=(12, 6), nrows=2, constrained_layout=True)\n",
    "\n",
    "iterators = zip(\n",
    "    axes,\n",
    "    [df_newborn_zed, df_sixmonth_zed],\n",
    "    [\"newborn\", \"sixmonth\"],\n",
    "    )\n",
    "for this_ax, this_df, this_label in iterators:\n",
    "    sns.violinplot(data=this_df, x=\"region\", y=\"volume\", ax=this_ax)\n",
    "    this_ax.set_title(this_label)\n",
    "fig.suptitle(\"Z-score distributions of Brain region Volume\", fontweight=\"bold\")\n",
    "fig.show()"
   ]
  },
  {
   "cell_type": "code",
   "execution_count": null,
   "metadata": {},
   "outputs": [],
   "source": [
    "def merge_in_gestational_df(df, gestational_age_df, session):\n",
    "    # Check\n",
    "    assert \"study_id\" in df.columns\n",
    "    assert \"study_id\" in gestational_age_df.columns\n",
    "    assert \"newborn_scan_age_weeks\" in gestational_age_df.columns\n",
    "    assert \"sixmonth_scan_age_weeks\" in gestational_age_df.columns\n",
    "    assert session in [\"newborn\", \"sixmonth\"]\n",
    "    age_col = f\"{session}_scan_age_weeks\"\n",
    "    # Do the merge\n",
    "    to_merge = gestational_age_df[[\"study_id\", age_col]]\n",
    "    return df.merge(to_merge, on=\"study_id\", how=\"inner\")\n"
   ]
  },
  {
   "cell_type": "code",
   "execution_count": null,
   "metadata": {},
   "outputs": [],
   "source": [
    "LONGITUDINAL_ONLY = True\n",
    "\n",
    "df_newborn = utils.io.get_brainvol_df(aseg_fname_newborn, zscore=False).reset_index()\n",
    "# Add gestation age from a separate CSV\n",
    "df_newborn = merge_in_gestational_df(df_newborn, gestational_age_df=df_ages, session=\"newborn\")\n",
    "df_newborn = df_newborn.rename(columns={\"newborn_scan_age_weeks\": \"gestational_age_weeks\"})\n",
    "df_newborn[\"session\"] = \"newborn\"\n",
    "df_newborn = df_newborn.set_index(\"study_id\")\n",
    "\n",
    "# Six Months\n",
    "df_sixmonth = utils.io.get_brainvol_df(aseg_fname_sixmonth, zscore=False).reset_index()\n",
    "# Add gestation age from a separate CSV\n",
    "df_sixmonth = merge_in_gestational_df(df_sixmonth, gestational_age_df=df_ages, session=\"sixmonth\")\n",
    "df_sixmonth = df_sixmonth.rename(columns={\"sixmonth_scan_age_weeks\": \"gestational_age_weeks\"})\n",
    "df_sixmonth[\"session\"] = \"sixmonth\"\n",
    "df_sixmonth = df_sixmonth.set_index(\"study_id\")\n",
    "\n",
    "df_merged = pd.concat([df_newborn, df_sixmonth])\n",
    "# limit to only the subjects that have both newborn and sixmonth data\n",
    "if LONGITUDINAL_ONLY:\n",
    "    in_newborn = df_merged.index.isin(df_newborn.index)\n",
    "    in_sixmonth = df_merged.index.isin(df_sixmonth.index)\n",
    "    df_merged = df_merged.loc[in_newborn & in_sixmonth]"
   ]
  },
  {
   "cell_type": "code",
   "execution_count": null,
   "metadata": {},
   "outputs": [],
   "source": [
    "df_merged"
   ]
  },
  {
   "cell_type": "code",
   "execution_count": null,
   "metadata": {},
   "outputs": [],
   "source": [
    "fig, ax = plt.subplots(figsize=(12, 6), constrained_layout=True)\n",
    "\n",
    "sns.boxplot(\n",
    "    data=df_merged,\n",
    "    x=\"region\",\n",
    "    y=\"volume\",\n",
    "    hue=\"session\",\n",
    "    ax=ax,\n",
    ")\n",
    "\n",
    "sns.stripplot(\n",
    "    data=df_merged,\n",
    "    x=\"region\",\n",
    "    y=\"volume\",\n",
    "    hue=\"session\",\n",
    "    ax=ax,\n",
    "    dodge=True,\n",
    "    alpha=.5,\n",
    "    legend=False\n",
    ")\n",
    "\n",
    "ax.set_title(\n",
    "    r\"Change in Volume ($mm^3$) between visits \" + f\"(n={df_merged.index.unique().shape[0]})\",\n",
    "    fontweight=\"bold\",\n",
    "    )\n",
    "ax.set_xlabel(\"Region\", fontweight=\"bold\")\n",
    "ax.set_ylabel(f\"Volume ($mm^3$)\", fontweight=\"bold\")\n",
    "fig.show()"
   ]
  },
  {
   "cell_type": "code",
   "execution_count": null,
   "metadata": {},
   "outputs": [],
   "source": [
    "\n",
    "if LONGITUDINAL_ONLY:\n",
    "    regions = df_merged[\"region\"].unique()\n",
    "    num_cols = len(regions)\n",
    "    colors = sns.color_palette()\n",
    "    fig, axes = plt.subplots(figsize=(15, 5), ncols=num_cols, constrained_layout=True)\n",
    "\n",
    "    for this_region, this_ax, this_color in zip(regions, axes, colors):\n",
    "        df_region = df_merged.loc[df_merged[\"region\"] == this_region]\n",
    "        df_region = df_region[[\"volume\", \"session\"]].pivot(columns=\"session\")\n",
    "        df_region.columns =  df_region.columns.droplevel()\n",
    "        df_region.columns.name = None\n",
    "        this_ax.plot(\n",
    "            df_region.to_numpy().T,\n",
    "            color=this_color,\n",
    "            alpha=.7,\n",
    "            linewidth=.7,\n",
    "            )\n",
    "        this_ax.set_title(this_region)\n",
    "        this_ax.set_xticks([0, 1])\n",
    "        this_ax.set_xticklabels([\"newborn\", \"sixmonth\"])\n",
    "        this_ax.set_ylabel(r\"Volume ($mm^3$)\")\n",
    "    fig.suptitle(f\"Change in Brain volume from 1-6 months (n={len(df_region)})\", fontweight=\"bold\")\n",
    "    fig.show()"
   ]
  },
  {
   "cell_type": "code",
   "execution_count": null,
   "metadata": {},
   "outputs": [],
   "source": [
    "if LONGITUDINAL_ONLY:\n",
    "    regions = df_merged[\"region\"].unique()\n",
    "    num_cols = len(regions)\n",
    "    colors = sns.color_palette()\n",
    "    fig, axes = plt.subplots(figsize=(15, 5), ncols=num_cols, constrained_layout=True)\n",
    "\n",
    "    for this_region, this_ax, this_color in zip(regions, axes, colors):\n",
    "        df_region = df_merged.loc[df_merged[\"region\"] == this_region]\n",
    "\n",
    "        ages = df_region.pivot(columns=\"session\")[('gestational_age_weeks',)]\n",
    "        volumes = df_region.pivot(columns=\"session\")[('volume',)]\n",
    "        assert len(ages) == len(volumes)\n",
    "\n",
    "        this_ax.plot(\n",
    "            ages.to_numpy().T,\n",
    "            volumes.to_numpy().T,\n",
    "            color=this_color,\n",
    "            alpha=.7,\n",
    "            linewidth=.7,\n",
    "            marker=\"o\",\n",
    "            )\n",
    "        this_ax.set_title(this_region)\n",
    "        this_ax.set_xlabel(\"Gestational Age (Weeks)\")\n",
    "        this_ax.set_ylabel(r\"Volume ($mm^3$)\")\n",
    "    fig.suptitle(f\"Change in Brain volume from 1-6 months (n={len(ages)})\", fontweight=\"bold\")\n",
    "    fig.show()"
   ]
  },
  {
   "cell_type": "markdown",
   "metadata": {},
   "source": [
    "## Surface Outputs (aparc)"
   ]
  },
  {
   "cell_type": "code",
   "execution_count": null,
   "metadata": {},
   "outputs": [],
   "source": [
    "aparc_lh_newborn = PROJECT_ROOT / \"csv\" / \"aparc_newborn_lh.csv\"\n",
    "aparc_rh_newborn = PROJECT_ROOT / \"csv\" / \"aparc_newborn_rh.csv\"\n",
    "\n",
    "aparc_lh_sixmonth = PROJECT_ROOT / \"csv\" / \"aparc_sixmonth_lh.csv\"\n",
    "aparc_rh_sixmonth = PROJECT_ROOT / \"csv\" / \"aparc_sixmonth_rh.csv\"\n",
    "\n",
    "\n",
    "def get_aparc_long_format(fname):\n",
    "    df = pd.read_csv(fname)\n",
    "    return df.melt(\n",
    "        id_vars=[\"study_id\", \"StructName\"],\n",
    "        var_name=\"metric\",\n",
    ")\n",
    "\n",
    "\n",
    "def get_aparc_all_hemisphere(fname_lh, fname_rh):\n",
    "    df_lh = get_aparc_long_format(fname_lh)\n",
    "    df_lh[\"hemisphere\"] = \"lh\"\n",
    "    df_lh[\"StructName\"] = df_lh[\"StructName\"].str.replace(\"lh-\", \"\")\n",
    "    df_rh = get_aparc_long_format(fname_rh)\n",
    "    df_rh[\"hemisphere\"] = \"rh\"\n",
    "    df_rh[\"StructName\"] = df_rh[\"StructName\"].str.replace(\"rh-\", \"\")\n",
    "    df_hemis = pd.concat([df_lh, df_rh])\n",
    "    return df_hemis\n",
    "\n",
    "df_hemis = get_aparc_all_hemisphere(aparc_lh_newborn, aparc_rh_newborn)\n",
    "df_hemis_6mo = get_aparc_all_hemisphere(aparc_lh_sixmonth, aparc_rh_sixmonth)\n",
    "\n",
    "# Now combine the ages\n",
    "df_hemis_6mo[\"session\"] = \"sixmonth\"\n",
    "df_hemis[\"session\"] = \"newborn\"\n",
    "df_all = pd.concat([df_hemis, df_hemis_6mo])"
   ]
  },
  {
   "cell_type": "code",
   "execution_count": null,
   "metadata": {},
   "outputs": [],
   "source": [
    "df_all.loc[df_all[\"metric\"] == \"SurfArea\"]"
   ]
  },
  {
   "cell_type": "code",
   "execution_count": null,
   "metadata": {},
   "outputs": [],
   "source": [
    "if LONGITUDINAL_ONLY:\n",
    "    # Let's limit to infants at both time points just for sanity purposes\n",
    "    in_newborn = df_all[\"study_id\"].isin(df_hemis[\"study_id\"])\n",
    "    in_sixmonth = df_all[\"study_id\"].isin(df_hemis_6mo[\"study_id\"])\n",
    "    df_all = df_all.loc[in_newborn & in_sixmonth]\n",
    "\n",
    "g = sns.FacetGrid(\n",
    "    data=df_all.loc[df_all[\"metric\"] == \"SurfArea\"],\n",
    "    col=\"StructName\",\n",
    "    col_wrap=5,\n",
    ")\n",
    "g.map_dataframe(sns.violinplot, x=\"session\", hue=\"hemisphere\", y=\"value\", split=True)"
   ]
  },
  {
   "cell_type": "markdown",
   "metadata": {},
   "source": [
    "# Pair Plots between Anatomical data and Bx Measures"
   ]
  },
  {
   "cell_type": "markdown",
   "metadata": {},
   "source": []
  },
  {
   "cell_type": "markdown",
   "metadata": {},
   "source": [
    "## Parenting Sensitivity\n",
    "### TODO: Yanbin share sensitivity data with Scott"
   ]
  },
  {
   "cell_type": "markdown",
   "metadata": {},
   "source": [
    "## 6-month Adult word Count (From LENA Data)"
   ]
  },
  {
   "cell_type": "markdown",
   "metadata": {},
   "source": [
    "## 6-Month Temperament Assment"
   ]
  },
  {
   "cell_type": "markdown",
   "metadata": {},
   "source": [
    "## 6-month Cognitive Assessment"
   ]
  },
  {
   "cell_type": "markdown",
   "metadata": {},
   "source": [
    "## Q: How do early life experiences affect brain devel?\n",
    "\n",
    "### I.e. language exposure\n",
    "\n",
    "#### LENA data at 6 months as a proxy. 2 days of recordings at 6-months. LENA outputs adult word count (how often they spoke). Maybe we wan to control for recording lengths.. \n",
    "\n",
    "## Things we need to account for (in order of importance)\n",
    "\n",
    "### Notes: We covary/use corrected age (age from due date)\n",
    "\n",
    "### Same for gestational age at birth\n",
    "\n",
    "### Birth weight\n",
    "\n",
    "### Biological Sex\n",
    "\n",
    "\n"
   ]
  },
  {
   "cell_type": "markdown",
   "metadata": {},
   "source": [
    "## TODO: Scott. Get LENA data. \n",
    "\n",
    "## "
   ]
  }
 ],
 "metadata": {},
 "nbformat": 4,
 "nbformat_minor": 2
}
