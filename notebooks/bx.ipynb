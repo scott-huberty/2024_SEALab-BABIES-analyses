{
 "cells": [
  {
   "cell_type": "code",
   "execution_count": null,
   "metadata": {},
   "outputs": [],
   "source": [
    "from pathlib import Path\n",
    "\n",
    "import pandas as pd\n",
    "\n",
    "import matplotlib.pyplot as plt\n",
    "import seaborn as sns\n",
    "\n",
    "sns.set_style(\"darkgrid\")"
   ]
  },
  {
   "cell_type": "code",
   "execution_count": null,
   "metadata": {},
   "outputs": [],
   "source": [
    "%pwd"
   ]
  },
  {
   "cell_type": "code",
   "execution_count": null,
   "metadata": {},
   "outputs": [],
   "source": [
    "# We have to move up to the parent directory so that we can import things from utils\n",
    "%cd ..\n",
    "%pwd\n"
   ]
  },
  {
   "cell_type": "code",
   "execution_count": null,
   "metadata": {},
   "outputs": [],
   "source": [
    "import utils"
   ]
  },
  {
   "cell_type": "code",
   "execution_count": null,
   "metadata": {},
   "outputs": [],
   "source": [
    "PROJECT_ROOT = Path(\".\").resolve()\n",
    "print(f\"project root: {PROJECT_ROOT}\")"
   ]
  },
  {
   "cell_type": "code",
   "execution_count": null,
   "metadata": {},
   "outputs": [],
   "source": [
    "redcap_fname = PROJECT_ROOT / \"bx\" / \"redcap_BABIES.csv\"\n",
    "redcap_datadict_fname = PROJECT_ROOT / \"bx\" / \"BABIES_DataDictionary.csv\"\n",
    "assert redcap_fname.exists()\n",
    "assert redcap_datadict_fname.exists()"
   ]
  },
  {
   "cell_type": "code",
   "execution_count": null,
   "metadata": {},
   "outputs": [],
   "source": [
    "df_redcap = utils.redcap.get_redcap_df(fname=redcap_fname, fname_datadict=redcap_datadict_fname)"
   ]
  },
  {
   "cell_type": "code",
   "execution_count": null,
   "metadata": {},
   "outputs": [],
   "source": [
    "fname_pcirs = PROJECT_ROOT / \"bx\" / \"PCIRS_6mo_FP_wide_scored_cononly_20240329.csv\"\n",
    "df_pcirs = pd.read_csv(fname_pcirs, index_col=\"ID\", usecols=lambda col: col != \"Unnamed: 0\")\n",
    "df_pcirs = df_pcirs.reset_index().rename(columns={\"ID\": \"study_id\"})\n",
    "df_pcirs[\"study_id\"] = df_pcirs[\"study_id\"].apply(lambda id_: \"sub-\" + str(id_))\n",
    "df_pcirs"
   ]
  },
  {
   "cell_type": "code",
   "execution_count": null,
   "metadata": {},
   "outputs": [],
   "source": [
    "aseg_fname_newborn = PROJECT_ROOT / \"csv\" / \"aseg_newborn_brainvol.table.txt\"\n",
    "aseg_fname_sixmonth = PROJECT_ROOT / \"csv\" / \"aseg_sixmonth_brainvol.table.txt\"\n",
    "\n",
    "df_vol_newborn = utils.io.get_brainvol_df(aseg_fname_newborn)\n",
    "df_vol_newborn = df_vol_newborn.pivot(columns=[\"region\"]).droplevel(0, axis=1)\n",
    "df_vol_newborn.columns.name = \"\"\n",
    "\n",
    "df_vol_sixmonth = utils.io.get_brainvol_df(aseg_fname_sixmonth)\n",
    "df_vol_sixmonth = df_vol_sixmonth.pivot(columns=[\"region\"]).droplevel(0, axis=1)\n",
    "df_vol_sixmonth.columns.name = \"\"\n",
    "df_vol_sixmonth"
   ]
  },
  {
   "cell_type": "markdown",
   "metadata": {},
   "source": [
    "# Newborn"
   ]
  },
  {
   "cell_type": "code",
   "execution_count": null,
   "metadata": {},
   "outputs": [],
   "source": [
    "# Newborn\n",
    "df_vol_pcirs_newborn = df_vol_newborn.merge(df_pcirs.set_index(\"study_id\"), left_index=True, right_index=True)\n",
    "df_vol_pcirs_newborn"
   ]
  },
  {
   "cell_type": "code",
   "execution_count": null,
   "metadata": {},
   "outputs": [],
   "source": [
    "fig, ax = plt.subplots(1, 1, figsize=(15, 15), constrained_layout=True)\n",
    "\n",
    "sns.heatmap(df_vol_pcirs_newborn.corr(), annot=False, ax=ax)"
   ]
  },
  {
   "cell_type": "code",
   "execution_count": null,
   "metadata": {},
   "outputs": [],
   "source": [
    "want_cols = [col for col in df_vol_pcirs_newborn.columns if \"vol\" in col.lower() or col == \"senstot\"]\n",
    "df_reduced = df_vol_pcirs_newborn.loc[:, want_cols]\n",
    "df_reduced.corr()"
   ]
  },
  {
   "cell_type": "markdown",
   "metadata": {},
   "source": [
    "# Six Month"
   ]
  },
  {
   "cell_type": "code",
   "execution_count": null,
   "metadata": {},
   "outputs": [],
   "source": [
    "df_vol_pcirs_sixmonth = df_pcirs.merge(df_vol_sixmonth, on=\"study_id\").set_index(\"study_id\")\n",
    "df_vol_pcirs_sixmonth"
   ]
  },
  {
   "cell_type": "code",
   "execution_count": null,
   "metadata": {},
   "outputs": [],
   "source": [
    "fig, ax = plt.subplots(figsize=(15, 15), constrained_layout=True)\n",
    "\n",
    "sns.heatmap(df_vol_pcirs_sixmonth.corr(), ax=ax)"
   ]
  },
  {
   "cell_type": "code",
   "execution_count": null,
   "metadata": {},
   "outputs": [],
   "source": [
    "want_cols = [col for col in df_vol_pcirs_sixmonth.columns if \"vol\" in col.lower() or col == \"senstot\"]\n",
    "df_reduced = df_vol_pcirs_sixmonth.loc[:, want_cols]\n",
    "df_reduced"
   ]
  },
  {
   "cell_type": "code",
   "execution_count": null,
   "metadata": {},
   "outputs": [],
   "source": [
    "sns.pairplot(df_reduced)"
   ]
  },
  {
   "cell_type": "code",
   "execution_count": null,
   "metadata": {},
   "outputs": [],
   "source": [
    "df_reduced.corr()"
   ]
  },
  {
   "cell_type": "code",
   "execution_count": null,
   "metadata": {},
   "outputs": [],
   "source": [
    "sns.lmplot(data=df_vol_pcirs_sixmonth, x=\"CerebralWhiteMatterVol\", y=\"senstot\")"
   ]
  },
  {
   "cell_type": "code",
   "execution_count": null,
   "metadata": {},
   "outputs": [],
   "source": [
    "import statsmodels.formula.api as smf\n",
    "\n",
    "mod = smf.ols(formula=\"senstot ~ CerebralWhiteMatterVol\", data=df_vol_pcirs_sixmonth)\n",
    "result = mod.fit()\n",
    "result.summary()"
   ]
  },
  {
   "cell_type": "code",
   "execution_count": null,
   "metadata": {},
   "outputs": [],
   "source": [
    "df_ages = utils.io.get_gestational_age_df().set_index(\"study_id\")\n",
    "df_ages"
   ]
  },
  {
   "cell_type": "code",
   "execution_count": null,
   "metadata": {},
   "outputs": [],
   "source": [
    "df_pcirs.set_index(\"study_id\").join(df_ages).corr()"
   ]
  },
  {
   "cell_type": "code",
   "execution_count": null,
   "metadata": {},
   "outputs": [],
   "source": [
    "data =df_reduced.merge(df_ages[\"sixmonth_scan_age_weeks\"], left_index=True, right_index=True)\n",
    "smf.ols(formula=\"senstot ~ CerebralWhiteMatterVol + sixmonth_scan_age_weeks\", data=data).fit().summary()"
   ]
  },
  {
   "cell_type": "markdown",
   "metadata": {},
   "source": [
    "## Let's examine this relationship for longitudinal data only"
   ]
  },
  {
   "cell_type": "code",
   "execution_count": null,
   "metadata": {},
   "outputs": [],
   "source": [
    "df_longitudinal = df_vol_newborn.merge(df_vol_sixmonth, left_index=True, right_index=True, suffixes=(\"_newborn\", \"_sixmonth\"))\n",
    "len(df_longitudinal)"
   ]
  },
  {
   "cell_type": "code",
   "execution_count": null,
   "metadata": {},
   "outputs": [],
   "source": [
    "newborn_cols = [col for col in df_longitudinal.columns if col.endswith(\"_newborn\")]\n",
    "session_mapping = {newborn_col: newborn_col.replace(\"_newborn\", \"_sixmonth\") for newborn_col in newborn_cols}\n",
    "\n",
    "for col in newborn_cols:\n",
    "    df_longitudinal[f\"{col.replace('_newborn', '')}_growth\"] = df_longitudinal[session_mapping[col]] - df_longitudinal[col]"
   ]
  },
  {
   "cell_type": "code",
   "execution_count": null,
   "metadata": {},
   "outputs": [],
   "source": [
    "df_longitudinal"
   ]
  },
  {
   "cell_type": "code",
   "execution_count": null,
   "metadata": {},
   "outputs": [],
   "source": [
    "want_cols = [col for col in df_longitudinal.columns if \"growth\" in col.lower()]\n",
    "want_cols"
   ]
  },
  {
   "cell_type": "code",
   "execution_count": null,
   "metadata": {},
   "outputs": [],
   "source": [
    "df_pcirs_vol_growth = df_pcirs.set_index(\"study_id\").merge(df_longitudinal[want_cols], left_index=True, right_index=True)\n",
    "df_pcirs_vol_growth"
   ]
  },
  {
   "cell_type": "code",
   "execution_count": null,
   "metadata": {},
   "outputs": [],
   "source": [
    "corr_matrix = df_pcirs_vol_growth.corr()"
   ]
  },
  {
   "cell_type": "code",
   "execution_count": null,
   "metadata": {},
   "outputs": [],
   "source": [
    "fig, ax = plt.subplots(figsize=(15, 15), constrained_layout=True)\n",
    "\n",
    "sns.heatmap(df_pcirs_vol_growth.corr(), annot=False, ax=ax)"
   ]
  },
  {
   "cell_type": "code",
   "execution_count": null,
   "metadata": {},
   "outputs": [],
   "source": [
    "df_pcirs_vol_growth.loc[:, [\"stimtot\"] + want_cols].corr()"
   ]
  },
  {
   "cell_type": "markdown",
   "metadata": {},
   "source": [
    "# Surface outputs"
   ]
  },
  {
   "cell_type": "code",
   "execution_count": null,
   "metadata": {},
   "outputs": [],
   "source": [
    "aparc_lh_newborn = PROJECT_ROOT / \"csv\" / \"aparc_newborn_lh.csv\"\n",
    "aparc_rh_newborn = PROJECT_ROOT / \"csv\" / \"aparc_newborn_rh.csv\"\n",
    "\n",
    "aparc_lh_sixmonth = PROJECT_ROOT / \"csv\" / \"aparc_sixmonth_lh.csv\"\n",
    "aparc_rh_sixmonth = PROJECT_ROOT / \"csv\" / \"aparc_sixmonth_rh.csv\"\n",
    "\n",
    "df_hemis_newborn = utils.io.get_aparc_all_hemisphere(aparc_lh_newborn, aparc_rh_newborn).set_index(\"study_id\")\n",
    "df_hemis_sixmonth = utils.io.get_aparc_all_hemisphere(aparc_lh_sixmonth, aparc_rh_sixmonth).set_index(\"study_id\")"
   ]
  },
  {
   "cell_type": "code",
   "execution_count": null,
   "metadata": {},
   "outputs": [],
   "source": [
    "df_hemis_sixmonth"
   ]
  },
  {
   "cell_type": "code",
   "execution_count": null,
   "metadata": {},
   "outputs": [],
   "source": [
    "# df_hemis_sixmonth = df_hemis_sixmonth.set_index(\"study_id\")\n",
    "cond_1 = df_hemis_sixmonth[\"metric\"] == \"SurfArea\"\n",
    "cond_2 = df_hemis_sixmonth[\"hemisphere\"] == \"lh\"\n",
    "df_sixmonth_surf_lh = df_hemis_sixmonth.loc[cond_1 & cond_2].drop(columns=[\"metric\", \"hemisphere\"]).pivot(columns=[\"StructName\"]).droplevel(0, axis=1)\n",
    "df_sixmonth_surf_lh\n"
   ]
  },
  {
   "cell_type": "code",
   "execution_count": null,
   "metadata": {},
   "outputs": [],
   "source": [
    "df_sixmonth_surf_lh_pcirs = df_sixmonth_surf_lh.merge(df_pcirs.set_index(\"study_id\"), left_index=True, right_index=True)"
   ]
  },
  {
   "cell_type": "code",
   "execution_count": null,
   "metadata": {},
   "outputs": [],
   "source": [
    "df_sixmonth_surf_lh_pcirs"
   ]
  },
  {
   "cell_type": "code",
   "execution_count": null,
   "metadata": {},
   "outputs": [],
   "source": [
    "fig, ax = plt.subplots(figsize=(20, 20), constrained_layout=True)\n",
    "\n",
    "corr = df_sixmonth_surf_lh_pcirs.corr()\n",
    "sns.heatmap(corr, ax=ax)"
   ]
  },
  {
   "cell_type": "code",
   "execution_count": null,
   "metadata": {},
   "outputs": [],
   "source": [
    "dont_want_cols = [\n",
    "    col for col in df_sixmonth_surf_lh_pcirs.columns\n",
    "    if \"neg\" in col.lower()\n",
    "    or \"tot\" in col.lower()\n",
    "    or \"pos\" in col.lower()\n",
    "    or \"detach\" in col.lower()\n",
    "    or \"intrus\" in col.lower()\n",
    "    or \"sens\" in col.lower()\n",
    "    or \"stim\" in col.lower()\n",
    "    ]\n",
    "corr.loc[corr.index == \"senstot\", [col for col in df_sixmonth_surf_lh_pcirs.columns if col not in dont_want_cols]]\n"
   ]
  },
  {
   "cell_type": "code",
   "execution_count": null,
   "metadata": {},
   "outputs": [],
   "source": [
    "smf.ols(formula=\"senstot ~ ctx_superiorfrontal\", data=df_sixmonth_surf_lh_pcirs.rename(columns={\"ctx-superiorfrontal\":\"ctx_superiorfrontal\"})).fit().summary()"
   ]
  }
 ],
 "metadata": {},
 "nbformat": 4,
 "nbformat_minor": 2
}
