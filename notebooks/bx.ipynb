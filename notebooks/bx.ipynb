{
 "cells": [
  {
   "cell_type": "code",
   "execution_count": null,
   "metadata": {},
   "outputs": [],
   "source": [
    "from pathlib import Path\n",
    "\n",
    "import pandas as pd\n",
    "\n",
    "import seaborn as sns\n",
    "\n",
    "sns.set_style(\"darkgrid\")"
   ]
  },
  {
   "cell_type": "code",
   "execution_count": null,
   "metadata": {},
   "outputs": [],
   "source": [
    "%pwd"
   ]
  },
  {
   "cell_type": "code",
   "execution_count": null,
   "metadata": {},
   "outputs": [],
   "source": [
    "# We have to move up to the parent directory so that we can import things from utils\n",
    "%cd ..\n",
    "%pwd\n"
   ]
  },
  {
   "cell_type": "code",
   "execution_count": null,
   "metadata": {},
   "outputs": [],
   "source": [
    "import utils"
   ]
  },
  {
   "cell_type": "code",
   "execution_count": null,
   "metadata": {},
   "outputs": [],
   "source": [
    "P_ROOT = Path(\".\").resolve()\n",
    "print(f\"project root: {P_ROOT}\")"
   ]
  },
  {
   "cell_type": "code",
   "execution_count": null,
   "metadata": {},
   "outputs": [],
   "source": [
    "redcap_fname = Path(\"/Volumes/Macintosh HD/Users/sealab/MRI_Processing/BABIES-Tracking/csv/redcap_BABIES.csv\")\n",
    "redcap_datadict_fname = Path(\"/Volumes/Macintosh HD/Users/sealab/MRI_Processing/BABIES-Tracking/csv/BABIES_DataDictionary.csv\")\n",
    "assert redcap_fname.exists()\n",
    "assert redcap_datadict_fname.exists()"
   ]
  },
  {
   "cell_type": "code",
   "execution_count": null,
   "metadata": {},
   "outputs": [],
   "source": [
    "df_redcap = utils.redcap.get_redcap_df(fname=redcap_fname, fname_datadict=redcap_datadict_fname)"
   ]
  },
  {
   "cell_type": "code",
   "execution_count": null,
   "metadata": {},
   "outputs": [],
   "source": [
    "fname_pcirs = P_ROOT / \"bx\" / \"PCIRS_6mo_FP_wide_scored_cononly_20240329.csv\"\n",
    "df_pcirs = pd.read_csv(fname_pcirs, index_col=\"ID\", usecols=lambda col: col != \"Unnamed: 0\")\n",
    "df_pcirs = df_pcirs.reset_index().rename(columns={\"ID\": \"study_id\"})\n",
    "df_pcirs[\"study_id\"] = df_pcirs[\"study_id\"].apply(lambda id_: \"sub-\" + str(id_))\n",
    "df_pcirs"
   ]
  },
  {
   "cell_type": "code",
   "execution_count": null,
   "metadata": {},
   "outputs": [],
   "source": [
    "df_tmp = df_merged.loc[df_merged[\"session\"] == \"sixmonth\"].drop(columns=[\"session\", \"gestational_age_weeks\"]).pivot(columns=[\"region\"]).droplevel(0, axis=1)\n",
    "df_tmp.columns.name = \"\"\n",
    "df_vol_pcirs = df_tmp.merge(df_pcirs, left_on=\"fsid\", right_on=\"study_id\")"
   ]
  },
  {
   "cell_type": "code",
   "execution_count": null,
   "metadata": {},
   "outputs": [],
   "source": [
    "aseg_fname_newborn = P_ROOT / \"aseg_newborn_brainvol.table.txt\"\n",
    "aseg_fname_sixmonth = P_ROOT / \"aseg_sixmonth_brainvol.table.txt\"\n",
    "\n",
    "df_vol = utils.io.get_brainvol_df(aseg_fname_sixmonth)\n",
    "df_vol = df_vol.pivot(columns=[\"region\"]).droplevel(0, axis=1)\n",
    "df_vol.columns.name = \"\"\n",
    "df_vol"
   ]
  },
  {
   "cell_type": "code",
   "execution_count": null,
   "metadata": {},
   "outputs": [],
   "source": [
    "df_vol_pcirs = df_pcirs.merge(df_vol, on=\"study_id\")"
   ]
  },
  {
   "cell_type": "code",
   "execution_count": null,
   "metadata": {},
   "outputs": [],
   "source": [
    "want_cols = [col for col in df_vol_pcirs.columns if \"vol\" in col.lower() or col == \"senstot\"]\n",
    "df_reduced = df_vol_pcirs.loc[:, want_cols]\n",
    "df_reduced"
   ]
  },
  {
   "cell_type": "code",
   "execution_count": null,
   "metadata": {},
   "outputs": [],
   "source": [
    "sns.pairplot(df_reduced)"
   ]
  },
  {
   "cell_type": "code",
   "execution_count": null,
   "metadata": {},
   "outputs": [],
   "source": [
    "df_reduced.corr()"
   ]
  },
  {
   "cell_type": "code",
   "execution_count": null,
   "metadata": {},
   "outputs": [],
   "source": [
    "sns.lmplot(data=df_reduced, x=\"CerebralWhiteMatterVol\", y=\"senstot\")"
   ]
  },
  {
   "cell_type": "code",
   "execution_count": null,
   "metadata": {},
   "outputs": [],
   "source": [
    "import statsmodels.formula.api as smf\n",
    "\n",
    "mod = smf.ols(formula=\"senstot ~ CerebralWhiteMatterVol\", data=df_reduced)\n",
    "result = mod.fit()\n",
    "result.summary()"
   ]
  }
 ],
 "metadata": {
  "kernelspec": {
   "display_name": "mri_processing",
   "language": "python",
   "name": "python3"
  },
  "language_info": {
   "codemirror_mode": {
    "name": "ipython",
    "version": 3
   },
   "file_extension": ".py",
   "mimetype": "text/x-python",
   "name": "python",
   "nbconvert_exporter": "python",
   "pygments_lexer": "ipython3"
  }
 },
 "nbformat": 4,
 "nbformat_minor": 2
}
